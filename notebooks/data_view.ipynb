{
 "cells": [
  {
   "cell_type": "code",
   "execution_count": 21,
   "metadata": {},
   "outputs": [
    {
     "name": "stderr",
     "output_type": "stream",
     "text": [
      "IProgress not found. Please update jupyter and ipywidgets. See https://ipywidgets.readthedocs.io/en/stable/user_install.html\n"
     ]
    }
   ],
   "source": [
    "import shap\n",
    "import pickle\n",
    "import pandas as pd\n",
    "import numpy as np\n",
    "from scripts_0.scaler_data import Datascaler"
   ]
  },
  {
   "cell_type": "code",
   "execution_count": 22,
   "metadata": {},
   "outputs": [],
   "source": [
    "with open('L:/data/2024/10code/model1_xgb.pkl', 'rb') as f:\n",
    "    bst = pickle.load(f)"
   ]
  },
  {
   "cell_type": "code",
   "execution_count": 28,
   "metadata": {},
   "outputs": [
    {
     "name": "stdout",
     "output_type": "stream",
     "text": [
      "标准化后的前五行数据    hours  temperature  humidity  lighting  ultraviolet  SO2  salt_spary  \\\n",
      "0  0.000        0.229     0.621     0.248        0.976  0.0         0.0   \n",
      "1  0.000        0.137     0.632     0.248        0.976  0.0         0.0   \n",
      "2  0.001        0.089     0.612     0.248        0.976  0.0         0.0   \n",
      "3  0.001        0.089     0.596     0.251        0.976  0.0         0.0   \n",
      "4  0.002        0.089     0.597     0.248        0.976  0.0         0.0   \n",
      "\n",
      "   i_corr(mA)  \n",
      "0     1.15542  \n",
      "1     1.56269  \n",
      "2     1.58413  \n",
      "3     2.48412  \n",
      "4     2.52609  \n",
      "[[  24.0833       17.8          69.9        1012.           20.\n",
      "     0.            0.            1.15542   ]\n",
      " [  24.16663333   15.3          70.8        1013.           20.\n",
      "     0.            0.            1.56269   ]\n",
      " [  24.24996667   14.           69.2        1011.           20.\n",
      "     0.            0.            1.58413   ]\n",
      " [  24.3333       14.           68.         1022.           20.\n",
      "     0.            0.            2.48412   ]\n",
      " [  24.41663333   14.           68.1        1013.           20.\n",
      "     0.            0.            2.52609   ]]\n"
     ]
    },
    {
     "name": "stderr",
     "output_type": "stream",
     "text": [
      "Pandas doesn't allow columns to be created via a new attribute name - see https://pandas.pydata.org/pandas-docs/stable/indexing.html#attribute-access\n"
     ]
    }
   ],
   "source": [
    "dataset = pd.read_excel('L:/data/2024/10code/ML_Analysis/data/processed/交互作用分析-删24h-电流.xlsx')\n",
    "x_columns=['hours','temperature','humidity','lighting','ultraviolet','SO2','salt_spary']\n",
    "y_columns=['i_corr(mA)']\n",
    "data = Datascaler.standard_data(dataset,data=dataset,x_columns=x_columns,y_columns=y_columns,decimals_n=3)\n",
    "data_default = np.array(data)\n",
    "print(data_default[:5])"
   ]
  },
  {
   "cell_type": "code",
   "execution_count": 30,
   "metadata": {},
   "outputs": [
    {
     "name": "stdout",
     "output_type": "stream",
     "text": [
      "       hours  temperature  humidity  lighting  ultraviolet  SO2  salt_spary  \\\n",
      "0  24.083300         17.8      69.9      1012         20.0  0.0         0.0   \n",
      "1  24.166633         15.3      70.8      1013         20.0  0.0         0.0   \n",
      "2  24.249967         14.0      69.2      1011         20.0  0.0         0.0   \n",
      "3  24.333300         14.0      68.0      1022         20.0  0.0         0.0   \n",
      "4  24.416633         14.0      68.1      1013         20.0  0.0         0.0   \n",
      "\n",
      "   i_corr(mA)  \n",
      "0     1.15542  \n",
      "1     1.56269  \n",
      "2     1.58413  \n",
      "3     2.48412  \n",
      "4     2.52609  \n"
     ]
    }
   ],
   "source": [
    "print(dataset.head())"
   ]
  },
  {
   "cell_type": "code",
   "execution_count": 31,
   "metadata": {},
   "outputs": [
    {
     "name": "stdout",
     "output_type": "stream",
     "text": [
      "(2197, 7)\n"
     ]
    }
   ],
   "source": [
    "a = data_default[:,:-1]\n",
    "explainer = shap.TreeExplainer(bst)\n",
    "shap_values = explainer.shap_values(a)\n",
    "# 获取SHAP值的数组形式（对于回归问题，这通常是一个二维数组，其中每行代表一个样本，每列代表一个特征）\n",
    "print(shap_values.shape)"
   ]
  },
  {
   "cell_type": "code",
   "execution_count": 32,
   "metadata": {},
   "outputs": [
    {
     "name": "stdout",
     "output_type": "stream",
     "text": [
      "(7,) [ 1.0573837  -6.3798103  -9.5717745  -2.2243512  -1.9676678   0.10122778\n",
      " -1.1052868 ]\n"
     ]
    }
   ],
   "source": [
    "shap_values_array = shap_values[0]\n",
    "print(shap_values_array.shape,shap_values_array)"
   ]
  },
  {
   "cell_type": "code",
   "execution_count": 34,
   "metadata": {},
   "outputs": [
    {
     "name": "stdout",
     "output_type": "stream",
     "text": [
      "[ 4.788052   4.834707  13.492335   1.9632022  1.8664676  1.0934324\n",
      "  3.361175 ]\n"
     ]
    }
   ],
   "source": [
    "average_impact = np.mean(np.abs(shap_values), axis=0)\n",
    "print(average_impact)"
   ]
  },
  {
   "cell_type": "code",
   "execution_count": 36,
   "metadata": {},
   "outputs": [
    {
     "name": "stdout",
     "output_type": "stream",
     "text": [
      "Index(['hours', 'temperature', 'humidity', 'lighting', 'ultraviolet', 'SO2',\n",
      "       'salt_spary'],\n",
      "      dtype='object')\n"
     ]
    }
   ],
   "source": [
    "print(dataset.columns[:7])"
   ]
  },
  {
   "cell_type": "code",
   "execution_count": null,
   "metadata": {},
   "outputs": [],
   "source": [
    "shap_values_array = shap_values[0]\n",
    "print(shap_values_array.shape)\n",
    "# 计算每个特征的SHAP值的绝对值的平均值\n",
    "mean_abs_shap_values = np.mean(np.abs(shap_values_array), axis=0)\n",
    "\n",
    "feature_names = []\n",
    "Mean_values = []\n",
    "\n",
    "# 打印每个特征的mean(|SHAP value|)\n",
    "for feature_name, mean_abs_value in zip(dataset.columns, mean_abs_shap_values):\n",
    "    feature_names.append(feature_name) \n",
    "    Mean_values.append(mean_abs_value)\n",
    "print(f\"Feature: {feature_names}, Mean(|SHAP value|): {Mean_values}\")"
   ]
  }
 ],
 "metadata": {
  "kernelspec": {
   "display_name": "env",
   "language": "python",
   "name": "python3"
  },
  "language_info": {
   "codemirror_mode": {
    "name": "ipython",
    "version": 3
   },
   "file_extension": ".py",
   "mimetype": "text/x-python",
   "name": "python",
   "nbconvert_exporter": "python",
   "pygments_lexer": "ipython3",
   "version": "3.8.5"
  }
 },
 "nbformat": 4,
 "nbformat_minor": 2
}
